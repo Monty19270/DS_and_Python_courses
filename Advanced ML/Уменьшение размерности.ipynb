{
 "cells": [
  {
   "cell_type": "code",
   "execution_count": 1,
   "metadata": {},
   "outputs": [],
   "source": [
    "import numpy as np\n",
    "import pandas as pd\n",
    "from sklearn.decomposition import PCA\n",
    "from sklearn import datasets\n",
    "import matplotlib\n",
    "import matplotlib.pyplot as plt\n",
    "%matplotlib inline"
   ]
  },
  {
   "cell_type": "code",
   "execution_count": 12,
   "metadata": {},
   "outputs": [
    {
     "data": {
      "text/html": [
       "<div>\n",
       "<style scoped>\n",
       "    .dataframe tbody tr th:only-of-type {\n",
       "        vertical-align: middle;\n",
       "    }\n",
       "\n",
       "    .dataframe tbody tr th {\n",
       "        vertical-align: top;\n",
       "    }\n",
       "\n",
       "    .dataframe thead th {\n",
       "        text-align: right;\n",
       "    }\n",
       "</style>\n",
       "<table border=\"1\" class=\"dataframe\">\n",
       "  <thead>\n",
       "    <tr style=\"text-align: right;\">\n",
       "      <th></th>\n",
       "      <th>0</th>\n",
       "      <th>1</th>\n",
       "      <th>2</th>\n",
       "      <th>3</th>\n",
       "      <th>4</th>\n",
       "      <th>5</th>\n",
       "      <th>6</th>\n",
       "      <th>7</th>\n",
       "      <th>8</th>\n",
       "      <th>9</th>\n",
       "    </tr>\n",
       "  </thead>\n",
       "  <tbody>\n",
       "    <tr>\n",
       "      <th>0</th>\n",
       "      <td>-24.504942</td>\n",
       "      <td>23.577457</td>\n",
       "      <td>-13.013497</td>\n",
       "      <td>11.597908</td>\n",
       "      <td>18.342250</td>\n",
       "      <td>-2.258323</td>\n",
       "      <td>-10.217719</td>\n",
       "      <td>-1.890770</td>\n",
       "      <td>-13.694313</td>\n",
       "      <td>-3.427739</td>\n",
       "    </tr>\n",
       "    <tr>\n",
       "      <th>1</th>\n",
       "      <td>-8.712978</td>\n",
       "      <td>-16.467314</td>\n",
       "      <td>-15.739045</td>\n",
       "      <td>-15.125727</td>\n",
       "      <td>2.382873</td>\n",
       "      <td>-0.332771</td>\n",
       "      <td>-1.571359</td>\n",
       "      <td>-13.346995</td>\n",
       "      <td>16.901802</td>\n",
       "      <td>-0.560003</td>\n",
       "    </tr>\n",
       "    <tr>\n",
       "      <th>2</th>\n",
       "      <td>-4.947666</td>\n",
       "      <td>-5.762710</td>\n",
       "      <td>-15.296801</td>\n",
       "      <td>3.076486</td>\n",
       "      <td>-27.540477</td>\n",
       "      <td>24.642389</td>\n",
       "      <td>14.638834</td>\n",
       "      <td>14.044069</td>\n",
       "      <td>8.027701</td>\n",
       "      <td>-24.256865</td>\n",
       "    </tr>\n",
       "    <tr>\n",
       "      <th>3</th>\n",
       "      <td>-4.711577</td>\n",
       "      <td>-7.501066</td>\n",
       "      <td>-14.611638</td>\n",
       "      <td>2.005721</td>\n",
       "      <td>-26.131699</td>\n",
       "      <td>20.563434</td>\n",
       "      <td>13.587302</td>\n",
       "      <td>13.652482</td>\n",
       "      <td>6.261105</td>\n",
       "      <td>-21.125368</td>\n",
       "    </tr>\n",
       "    <tr>\n",
       "      <th>4</th>\n",
       "      <td>-2.027430</td>\n",
       "      <td>-6.786353</td>\n",
       "      <td>-15.435602</td>\n",
       "      <td>-0.508896</td>\n",
       "      <td>-24.222880</td>\n",
       "      <td>22.565825</td>\n",
       "      <td>12.672090</td>\n",
       "      <td>14.934825</td>\n",
       "      <td>4.896119</td>\n",
       "      <td>-22.900903</td>\n",
       "    </tr>\n",
       "  </tbody>\n",
       "</table>\n",
       "</div>"
      ],
      "text/plain": [
       "           0          1          2          3          4          5  \\\n",
       "0 -24.504942  23.577457 -13.013497  11.597908  18.342250  -2.258323   \n",
       "1  -8.712978 -16.467314 -15.739045 -15.125727   2.382873  -0.332771   \n",
       "2  -4.947666  -5.762710 -15.296801   3.076486 -27.540477  24.642389   \n",
       "3  -4.711577  -7.501066 -14.611638   2.005721 -26.131699  20.563434   \n",
       "4  -2.027430  -6.786353 -15.435602  -0.508896 -24.222880  22.565825   \n",
       "\n",
       "           6          7          8          9  \n",
       "0 -10.217719  -1.890770 -13.694313  -3.427739  \n",
       "1  -1.571359 -13.346995  16.901802  -0.560003  \n",
       "2  14.638834  14.044069   8.027701 -24.256865  \n",
       "3  13.587302  13.652482   6.261105 -21.125368  \n",
       "4  12.672090  14.934825   4.896119 -22.900903  "
      ]
     },
     "execution_count": 12,
     "metadata": {},
     "output_type": "execute_result"
    }
   ],
   "source": [
    "data = pd.read_csv('54_25.csv',header=None)\n",
    "data.head()"
   ]
  },
  {
   "cell_type": "code",
   "execution_count": 13,
   "metadata": {},
   "outputs": [
    {
     "name": "stdout",
     "output_type": "stream",
     "text": [
      "[-24.50494236  23.57745652 -13.01349709  11.59790752  18.34225025\n",
      "  -2.25832344 -10.21771935  -1.89076982 -13.694313    -3.42773885]\n"
     ]
    },
    {
     "data": {
      "text/plain": [
       "<matplotlib.image.AxesImage at 0x21320d789d0>"
      ]
     },
     "execution_count": 13,
     "metadata": {},
     "output_type": "execute_result"
    },
    {
     "data": {
      "image/png": "[encoded data removed]",
      "text/plain": [
       "<Figure size 432x288 with 1 Axes>"
      ]
     },
     "metadata": {
      "needs_background": "light"
     },
     "output_type": "display_data"
    }
   ],
   "source": [
    "X = np.array(data)\n",
    "print(X[0])\n",
    "plt.imshow(X[:].reshape([5, 120]), cmap='Greys_r')"
   ]
  },
  {
   "cell_type": "code",
   "execution_count": 14,
   "metadata": {},
   "outputs": [
    {
     "name": "stdout",
     "output_type": "stream",
     "text": [
      "<class 'pandas.core.frame.DataFrame'>\n",
      "RangeIndex: 60 entries, 0 to 59\n",
      "Data columns (total 10 columns):\n",
      " #   Column  Non-Null Count  Dtype  \n",
      "---  ------  --------------  -----  \n",
      " 0   0       60 non-null     float64\n",
      " 1   1       60 non-null     float64\n",
      " 2   2       60 non-null     float64\n",
      " 3   3       60 non-null     float64\n",
      " 4   4       60 non-null     float64\n",
      " 5   5       60 non-null     float64\n",
      " 6   6       60 non-null     float64\n",
      " 7   7       60 non-null     float64\n",
      " 8   8       60 non-null     float64\n",
      " 9   9       60 non-null     float64\n",
      "dtypes: float64(10)\n",
      "memory usage: 4.8 KB\n"
     ]
    }
   ],
   "source": [
    "data.info()"
   ]
  },
  {
   "cell_type": "code",
   "execution_count": 15,
   "metadata": {},
   "outputs": [
    {
     "data": {
      "text/plain": [
       "array([36.23343741,  5.10043679])"
      ]
     },
     "execution_count": 15,
     "metadata": {},
     "output_type": "execute_result"
    }
   ],
   "source": [
    "pca = PCA(n_components=2, svd_solver='full') #Создание объекта класса PCA. В качестве параметров выступает количество ГК и метод оптимизации\n",
    "X_transformed = pca.fit(X).transform(X) #X_transformed -- ndarray объектов, где каждый объект описывается двумя ГК\n",
    "X_transformed[0]"
   ]
  },
  {
   "cell_type": "code",
   "execution_count": 16,
   "metadata": {},
   "outputs": [],
   "source": [
    "pca = PCA(n_components=10, svd_solver='full')\n",
    "X_full = pca.fit(X).transform(X)"
   ]
  },
  {
   "cell_type": "code",
   "execution_count": 17,
   "metadata": {},
   "outputs": [
    {
     "data": {
      "text/plain": [
       "array([0.46 , 0.695, 0.923, 0.992, 0.994, 0.996, 0.997, 0.998, 0.999,\n",
       "       1.   ])"
      ]
     },
     "execution_count": 17,
     "metadata": {},
     "output_type": "execute_result"
    }
   ],
   "source": [
    "explained_variance = np.round(np.cumsum(pca.explained_variance_ratio_),3)\n",
    "explained_variance"
   ]
  },
  {
   "cell_type": "code",
   "execution_count": 18,
   "metadata": {},
   "outputs": [
    {
     "data": {
      "text/plain": [
       "[<matplotlib.lines.Line2D at 0x21320dcea90>]"
      ]
     },
     "execution_count": 18,
     "metadata": {},
     "output_type": "execute_result"
    },
    {
     "data": {
      "image/png": "[encoded data removed]",
      "text/plain": [
       "<Figure size 432x288 with 1 Axes>"
      ]
     },
     "metadata": {
      "needs_background": "light"
     },
     "output_type": "display_data"
    }
   ],
   "source": [
    "plt.plot(X_transformed[:101, 0], X_transformed[:101, 1], 'o', markerfacecolor='red', markeredgecolor='k', markersize=8)"
   ]
  },
  {
   "cell_type": "code",
   "execution_count": null,
   "metadata": {},
   "outputs": [],
   "source": []
  },
  {
   "cell_type": "code",
   "execution_count": null,
   "metadata": {},
   "outputs": [],
   "source": []
  },
  {
   "cell_type": "code",
   "execution_count": null,
   "metadata": {},
   "outputs": [],
   "source": []
  }
 ],
 "metadata": {
  "kernelspec": {
   "display_name": "Python 3",
   "language": "python",
   "name": "python3"
  },
  "language_info": {
   "codemirror_mode": {
    "name": "ipython",
    "version": 3
   },
   "file_extension": ".py",
   "mimetype": "text/x-python",
   "name": "python",
   "nbconvert_exporter": "python",
   "pygments_lexer": "ipython3",
   "version": "3.8.3"
  }
 },
 "nbformat": 4,
 "nbformat_minor": 4
}
