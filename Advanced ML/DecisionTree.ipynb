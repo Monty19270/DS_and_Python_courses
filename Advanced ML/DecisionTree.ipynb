{
 "cells": [
  {
   "cell_type": "code",
   "execution_count": 1,
   "metadata": {},
   "outputs": [],
   "source": [
    "import pandas as pd\n",
    "import matplotlib\n",
    "import numpy as np\n",
    "import matplotlib.pyplot as plt\n",
    "%matplotlib inline "
   ]
  },
  {
   "cell_type": "code",
   "execution_count": 2,
   "metadata": {},
   "outputs": [],
   "source": [
    "df = pd.read_csv('diabetes.csv') "
   ]
  },
  {
   "cell_type": "code",
   "execution_count": 3,
   "metadata": {},
   "outputs": [
    {
     "data": {
      "text/html": [
       "<div>\n",
       "<style scoped>\n",
       "    .dataframe tbody tr th:only-of-type {\n",
       "        vertical-align: middle;\n",
       "    }\n",
       "\n",
       "    .dataframe tbody tr th {\n",
       "        vertical-align: top;\n",
       "    }\n",
       "\n",
       "    .dataframe thead th {\n",
       "        text-align: right;\n",
       "    }\n",
       "</style>\n",
       "<table border=\"1\" class=\"dataframe\">\n",
       "  <thead>\n",
       "    <tr style=\"text-align: right;\">\n",
       "      <th></th>\n",
       "      <th>Pregnancies</th>\n",
       "      <th>Glucose</th>\n",
       "      <th>BloodPressure</th>\n",
       "      <th>SkinThickness</th>\n",
       "      <th>Insulin</th>\n",
       "      <th>BMI</th>\n",
       "      <th>DiabetesPedigreeFunction</th>\n",
       "      <th>Age</th>\n",
       "      <th>Outcome</th>\n",
       "    </tr>\n",
       "  </thead>\n",
       "  <tbody>\n",
       "    <tr>\n",
       "      <th>0</th>\n",
       "      <td>6</td>\n",
       "      <td>148</td>\n",
       "      <td>72</td>\n",
       "      <td>35</td>\n",
       "      <td>0</td>\n",
       "      <td>33.6</td>\n",
       "      <td>0.627</td>\n",
       "      <td>50</td>\n",
       "      <td>1</td>\n",
       "    </tr>\n",
       "    <tr>\n",
       "      <th>1</th>\n",
       "      <td>1</td>\n",
       "      <td>85</td>\n",
       "      <td>66</td>\n",
       "      <td>29</td>\n",
       "      <td>0</td>\n",
       "      <td>26.6</td>\n",
       "      <td>0.351</td>\n",
       "      <td>31</td>\n",
       "      <td>0</td>\n",
       "    </tr>\n",
       "    <tr>\n",
       "      <th>2</th>\n",
       "      <td>8</td>\n",
       "      <td>183</td>\n",
       "      <td>64</td>\n",
       "      <td>0</td>\n",
       "      <td>0</td>\n",
       "      <td>23.3</td>\n",
       "      <td>0.672</td>\n",
       "      <td>32</td>\n",
       "      <td>1</td>\n",
       "    </tr>\n",
       "    <tr>\n",
       "      <th>3</th>\n",
       "      <td>1</td>\n",
       "      <td>89</td>\n",
       "      <td>66</td>\n",
       "      <td>23</td>\n",
       "      <td>94</td>\n",
       "      <td>28.1</td>\n",
       "      <td>0.167</td>\n",
       "      <td>21</td>\n",
       "      <td>0</td>\n",
       "    </tr>\n",
       "    <tr>\n",
       "      <th>4</th>\n",
       "      <td>0</td>\n",
       "      <td>137</td>\n",
       "      <td>40</td>\n",
       "      <td>35</td>\n",
       "      <td>168</td>\n",
       "      <td>43.1</td>\n",
       "      <td>2.288</td>\n",
       "      <td>33</td>\n",
       "      <td>1</td>\n",
       "    </tr>\n",
       "  </tbody>\n",
       "</table>\n",
       "</div>"
      ],
      "text/plain": [
       "   Pregnancies  Glucose  BloodPressure  SkinThickness  Insulin   BMI  \\\n",
       "0            6      148             72             35        0  33.6   \n",
       "1            1       85             66             29        0  26.6   \n",
       "2            8      183             64              0        0  23.3   \n",
       "3            1       89             66             23       94  28.1   \n",
       "4            0      137             40             35      168  43.1   \n",
       "\n",
       "   DiabetesPedigreeFunction  Age  Outcome  \n",
       "0                     0.627   50        1  \n",
       "1                     0.351   31        0  \n",
       "2                     0.672   32        1  \n",
       "3                     0.167   21        0  \n",
       "4                     2.288   33        1  "
      ]
     },
     "execution_count": 3,
     "metadata": {},
     "output_type": "execute_result"
    }
   ],
   "source": [
    "df.head()"
   ]
  },
  {
   "cell_type": "markdown",
   "metadata": {},
   "source": [
    "Отбор первых 590 строк:"
   ]
  },
  {
   "cell_type": "code",
   "execution_count": 4,
   "metadata": {},
   "outputs": [],
   "source": [
    "task_data = df.head(670)"
   ]
  },
  {
   "cell_type": "markdown",
   "metadata": {},
   "source": [
    "Вывод числа строк в получившейся выборке и относящихся к классу 1 (пациент болен диабетом)"
   ]
  },
  {
   "cell_type": "code",
   "execution_count": 5,
   "metadata": {},
   "outputs": [
    {
     "data": {
      "text/plain": [
       "439"
      ]
     },
     "execution_count": 5,
     "metadata": {},
     "output_type": "execute_result"
    }
   ],
   "source": [
    "len(task_data[task_data['Outcome'] == 0])"
   ]
  },
  {
   "cell_type": "markdown",
   "metadata": {},
   "source": [
    "Разделеные данных на тренировочные и тестовые. Первые 70% строк — тренировочные, остальные — тестовые."
   ]
  },
  {
   "cell_type": "code",
   "execution_count": 6,
   "metadata": {},
   "outputs": [],
   "source": [
    "train = task_data.head(int(len(task_data)*0.8))\n",
    "test = task_data.tail(int(len(task_data)*0.2))"
   ]
  },
  {
   "cell_type": "markdown",
   "metadata": {},
   "source": [
    "Выделяем предикторы (8 первых столбцов) и отклик (Outcome):"
   ]
  },
  {
   "cell_type": "code",
   "execution_count": 22,
   "metadata": {},
   "outputs": [
    {
     "data": {
      "text/plain": [
       "0      1\n",
       "1      0\n",
       "2      1\n",
       "3      0\n",
       "4      1\n",
       "      ..\n",
       "531    0\n",
       "532    0\n",
       "533    0\n",
       "534    0\n",
       "535    1\n",
       "Name: Outcome, Length: 536, dtype: int64"
      ]
     },
     "execution_count": 22,
     "metadata": {},
     "output_type": "execute_result"
    }
   ],
   "source": [
    "features = list(train.columns[:8])\n",
    "x = train[features]\n",
    "y = train['Outcome']\n",
    "y"
   ]
  },
  {
   "cell_type": "markdown",
   "metadata": {},
   "source": [
    "Подключем классификатор DecisionTreeClassifier:"
   ]
  },
  {
   "cell_type": "code",
   "execution_count": 8,
   "metadata": {},
   "outputs": [],
   "source": [
    "from sklearn.tree import DecisionTreeClassifier"
   ]
  },
  {
   "cell_type": "markdown",
   "metadata": {},
   "source": [
    "Задаем параметры дерева принятия решений и обучаем модель:"
   ]
  },
  {
   "cell_type": "code",
   "execution_count": 23,
   "metadata": {},
   "outputs": [],
   "source": [
    "tree = DecisionTreeClassifier(criterion='entropy', #критерий разделения\n",
    "                              min_samples_leaf=10, #минимальное число объектов в листе\n",
    "                              max_leaf_nodes=11, #максимальное число листьев\n",
    "                              random_state=2020)\n",
    "clf=tree.fit(x, y)"
   ]
  },
  {
   "cell_type": "markdown",
   "metadata": {},
   "source": [
    "Подключаем библиотеку для визуализации дерева. Сохраняем в файл и выводим на экран."
   ]
  },
  {
   "cell_type": "code",
   "execution_count": 24,
   "metadata": {},
   "outputs": [
    {
     "data": {
      "image/svg+xml": [
       "<?xml version=\"1.0\" encoding=\"UTF-8\" standalone=\"no\"?>\r\n",
       "<!DOCTYPE svg PUBLIC \"-//W3C//DTD SVG 1.1//EN\"\r\n",
       " \"http://www.w3.org/Graphics/SVG/1.1/DTD/svg11.dtd\">\r\n",
       "<!-- Generated by graphviz version 2.46.0 (20210118.1747)\r\n",
       " -->\r\n",
       "<!-- Title: Tree Pages: 1 -->\r\n",
       "<svg width=\"779pt\" height=\"790pt\"\r\n",
       " viewBox=\"0.00 0.00 779.00 790.00\" xmlns=\"http://www.w3.org/2000/svg\" xmlns:xlink=\"http://www.w3.org/1999/xlink\">\r\n",
       "<g id=\"graph0\" class=\"graph\" transform=\"scale(1 1) rotate(0) translate(4 786)\">\r\n",
       "<title>Tree</title>\r\n",
       "<polygon fill=\"white\" stroke=\"transparent\" points=\"-4,4 -4,-786 775,-786 775,4 -4,4\"/>\r\n",
       "<!-- 0 -->\r\n",
       "<g id=\"node1\" class=\"node\">\r\n",
       "<title>0</title>\r\n",
       "<path fill=\"#f3c6a5\" stroke=\"black\" d=\"M376.5,-782C376.5,-782 269.5,-782 269.5,-782 263.5,-782 257.5,-776 257.5,-770 257.5,-770 257.5,-711 257.5,-711 257.5,-705 263.5,-699 269.5,-699 269.5,-699 376.5,-699 376.5,-699 382.5,-699 388.5,-705 388.5,-711 388.5,-711 388.5,-770 388.5,-770 388.5,-776 382.5,-782 376.5,-782\"/>\r\n",
       "<text text-anchor=\"middle\" x=\"323\" y=\"-766.8\" font-family=\"Helvetica,sans-Serif\" font-size=\"14.00\">Glucose &lt;= 154.5</text>\r\n",
       "<text text-anchor=\"middle\" x=\"323\" y=\"-751.8\" font-family=\"Helvetica,sans-Serif\" font-size=\"14.00\">entropy = 0.94</text>\r\n",
       "<text text-anchor=\"middle\" x=\"323\" y=\"-736.8\" font-family=\"Helvetica,sans-Serif\" font-size=\"14.00\">samples = 536</text>\r\n",
       "<text text-anchor=\"middle\" x=\"323\" y=\"-721.8\" font-family=\"Helvetica,sans-Serif\" font-size=\"14.00\">value = [347, 189]</text>\r\n",
       "<text text-anchor=\"middle\" x=\"323\" y=\"-706.8\" font-family=\"Helvetica,sans-Serif\" font-size=\"14.00\">class = 0</text>\r\n",
       "</g>\r\n",
       "<!-- 1 -->\r\n",
       "<g id=\"node2\" class=\"node\">\r\n",
       "<title>1</title>\r\n",
       "<path fill=\"#efaf82\" stroke=\"black\" d=\"M306,-663C306,-663 200,-663 200,-663 194,-663 188,-657 188,-651 188,-651 188,-592 188,-592 188,-586 194,-580 200,-580 200,-580 306,-580 306,-580 312,-580 318,-586 318,-592 318,-592 318,-651 318,-651 318,-657 312,-663 306,-663\"/>\r\n",
       "<text text-anchor=\"middle\" x=\"253\" y=\"-647.8\" font-family=\"Helvetica,sans-Serif\" font-size=\"14.00\">BMI &lt;= 26.35</text>\r\n",
       "<text text-anchor=\"middle\" x=\"253\" y=\"-632.8\" font-family=\"Helvetica,sans-Serif\" font-size=\"14.00\">entropy = 0.84</text>\r\n",
       "<text text-anchor=\"middle\" x=\"253\" y=\"-617.8\" font-family=\"Helvetica,sans-Serif\" font-size=\"14.00\">samples = 453</text>\r\n",
       "<text text-anchor=\"middle\" x=\"253\" y=\"-602.8\" font-family=\"Helvetica,sans-Serif\" font-size=\"14.00\">value = [331, 122]</text>\r\n",
       "<text text-anchor=\"middle\" x=\"253\" y=\"-587.8\" font-family=\"Helvetica,sans-Serif\" font-size=\"14.00\">class = 0</text>\r\n",
       "</g>\r\n",
       "<!-- 0&#45;&gt;1 -->\r\n",
       "<g id=\"edge1\" class=\"edge\">\r\n",
       "<title>0&#45;&gt;1</title>\r\n",
       "<path fill=\"none\" stroke=\"black\" d=\"M298.71,-698.91C293.45,-690.1 287.82,-680.7 282.38,-671.61\"/>\r\n",
       "<polygon fill=\"black\" stroke=\"black\" points=\"285.38,-669.81 277.24,-663.02 279.37,-673.4 285.38,-669.81\"/>\r\n",
       "<text text-anchor=\"middle\" x=\"271.15\" y=\"-683.57\" font-family=\"Helvetica,sans-Serif\" font-size=\"14.00\">True</text>\r\n",
       "</g>\r\n",
       "<!-- 2 -->\r\n",
       "<g id=\"node19\" class=\"node\">\r\n",
       "<title>2</title>\r\n",
       "<path fill=\"#68b4eb\" stroke=\"black\" d=\"M437.5,-663C437.5,-663 348.5,-663 348.5,-663 342.5,-663 336.5,-657 336.5,-651 336.5,-651 336.5,-592 336.5,-592 336.5,-586 342.5,-580 348.5,-580 348.5,-580 437.5,-580 437.5,-580 443.5,-580 449.5,-586 449.5,-592 449.5,-592 449.5,-651 449.5,-651 449.5,-657 443.5,-663 437.5,-663\"/>\r\n",
       "<text text-anchor=\"middle\" x=\"393\" y=\"-647.8\" font-family=\"Helvetica,sans-Serif\" font-size=\"14.00\">Age &lt;= 57.5</text>\r\n",
       "<text text-anchor=\"middle\" x=\"393\" y=\"-632.8\" font-family=\"Helvetica,sans-Serif\" font-size=\"14.00\">entropy = 0.71</text>\r\n",
       "<text text-anchor=\"middle\" x=\"393\" y=\"-617.8\" font-family=\"Helvetica,sans-Serif\" font-size=\"14.00\">samples = 83</text>\r\n",
       "<text text-anchor=\"middle\" x=\"393\" y=\"-602.8\" font-family=\"Helvetica,sans-Serif\" font-size=\"14.00\">value = [16, 67]</text>\r\n",
       "<text text-anchor=\"middle\" x=\"393\" y=\"-587.8\" font-family=\"Helvetica,sans-Serif\" font-size=\"14.00\">class = 1</text>\r\n",
       "</g>\r\n",
       "<!-- 0&#45;&gt;2 -->\r\n",
       "<g id=\"edge18\" class=\"edge\">\r\n",
       "<title>0&#45;&gt;2</title>\r\n",
       "<path fill=\"none\" stroke=\"black\" d=\"M347.29,-698.91C352.55,-690.1 358.18,-680.7 363.62,-671.61\"/>\r\n",
       "<polygon fill=\"black\" stroke=\"black\" points=\"366.63,-673.4 368.76,-663.02 360.62,-669.81 366.63,-673.4\"/>\r\n",
       "<text text-anchor=\"middle\" x=\"374.85\" y=\"-683.57\" font-family=\"Helvetica,sans-Serif\" font-size=\"14.00\">False</text>\r\n",
       "</g>\r\n",
       "<!-- 3 -->\r\n",
       "<g id=\"node3\" class=\"node\">\r\n",
       "<title>3</title>\r\n",
       "<path fill=\"#e68640\" stroke=\"black\" d=\"M157.5,-536.5C157.5,-536.5 68.5,-536.5 68.5,-536.5 62.5,-536.5 56.5,-530.5 56.5,-524.5 56.5,-524.5 56.5,-480.5 56.5,-480.5 56.5,-474.5 62.5,-468.5 68.5,-468.5 68.5,-468.5 157.5,-468.5 157.5,-468.5 163.5,-468.5 169.5,-474.5 169.5,-480.5 169.5,-480.5 169.5,-524.5 169.5,-524.5 169.5,-530.5 163.5,-536.5 157.5,-536.5\"/>\r\n",
       "<text text-anchor=\"middle\" x=\"113\" y=\"-521.3\" font-family=\"Helvetica,sans-Serif\" font-size=\"14.00\">entropy = 0.22</text>\r\n",
       "<text text-anchor=\"middle\" x=\"113\" y=\"-506.3\" font-family=\"Helvetica,sans-Serif\" font-size=\"14.00\">samples = 115</text>\r\n",
       "<text text-anchor=\"middle\" x=\"113\" y=\"-491.3\" font-family=\"Helvetica,sans-Serif\" font-size=\"14.00\">value = [111, 4]</text>\r\n",
       "<text text-anchor=\"middle\" x=\"113\" y=\"-476.3\" font-family=\"Helvetica,sans-Serif\" font-size=\"14.00\">class = 0</text>\r\n",
       "</g>\r\n",
       "<!-- 1&#45;&gt;3 -->\r\n",
       "<g id=\"edge2\" class=\"edge\">\r\n",
       "<title>1&#45;&gt;3</title>\r\n",
       "<path fill=\"none\" stroke=\"black\" d=\"M204.43,-579.91C190.17,-567.99 174.59,-554.98 160.41,-543.12\"/>\r\n",
       "<polygon fill=\"black\" stroke=\"black\" points=\"162.6,-540.39 152.69,-536.67 158.12,-545.77 162.6,-540.39\"/>\r\n",
       "</g>\r\n",
       "<!-- 4 -->\r\n",
       "<g id=\"node4\" class=\"node\">\r\n",
       "<title>4</title>\r\n",
       "<path fill=\"#f3c5a3\" stroke=\"black\" d=\"M306,-544C306,-544 200,-544 200,-544 194,-544 188,-538 188,-532 188,-532 188,-473 188,-473 188,-467 194,-461 200,-461 200,-461 306,-461 306,-461 312,-461 318,-467 318,-473 318,-473 318,-532 318,-532 318,-538 312,-544 306,-544\"/>\r\n",
       "<text text-anchor=\"middle\" x=\"253\" y=\"-528.8\" font-family=\"Helvetica,sans-Serif\" font-size=\"14.00\">Glucose &lt;= 99.5</text>\r\n",
       "<text text-anchor=\"middle\" x=\"253\" y=\"-513.8\" font-family=\"Helvetica,sans-Serif\" font-size=\"14.00\">entropy = 0.93</text>\r\n",
       "<text text-anchor=\"middle\" x=\"253\" y=\"-498.8\" font-family=\"Helvetica,sans-Serif\" font-size=\"14.00\">samples = 338</text>\r\n",
       "<text text-anchor=\"middle\" x=\"253\" y=\"-483.8\" font-family=\"Helvetica,sans-Serif\" font-size=\"14.00\">value = [220, 118]</text>\r\n",
       "<text text-anchor=\"middle\" x=\"253\" y=\"-468.8\" font-family=\"Helvetica,sans-Serif\" font-size=\"14.00\">class = 0</text>\r\n",
       "</g>\r\n",
       "<!-- 1&#45;&gt;4 -->\r\n",
       "<g id=\"edge3\" class=\"edge\">\r\n",
       "<title>1&#45;&gt;4</title>\r\n",
       "<path fill=\"none\" stroke=\"black\" d=\"M253,-579.91C253,-571.65 253,-562.86 253,-554.3\"/>\r\n",
       "<polygon fill=\"black\" stroke=\"black\" points=\"256.5,-554.02 253,-544.02 249.5,-554.02 256.5,-554.02\"/>\r\n",
       "</g>\r\n",
       "<!-- 5 -->\r\n",
       "<g id=\"node5\" class=\"node\">\r\n",
       "<title>5</title>\r\n",
       "<path fill=\"#e89253\" stroke=\"black\" d=\"M227.5,-425C227.5,-425 138.5,-425 138.5,-425 132.5,-425 126.5,-419 126.5,-413 126.5,-413 126.5,-354 126.5,-354 126.5,-348 132.5,-342 138.5,-342 138.5,-342 227.5,-342 227.5,-342 233.5,-342 239.5,-348 239.5,-354 239.5,-354 239.5,-413 239.5,-413 239.5,-419 233.5,-425 227.5,-425\"/>\r\n",
       "<text text-anchor=\"middle\" x=\"183\" y=\"-409.8\" font-family=\"Helvetica,sans-Serif\" font-size=\"14.00\">Age &lt;= 25.5</text>\r\n",
       "<text text-anchor=\"middle\" x=\"183\" y=\"-394.8\" font-family=\"Helvetica,sans-Serif\" font-size=\"14.00\">entropy = 0.52</text>\r\n",
       "<text text-anchor=\"middle\" x=\"183\" y=\"-379.8\" font-family=\"Helvetica,sans-Serif\" font-size=\"14.00\">samples = 94</text>\r\n",
       "<text text-anchor=\"middle\" x=\"183\" y=\"-364.8\" font-family=\"Helvetica,sans-Serif\" font-size=\"14.00\">value = [83, 11]</text>\r\n",
       "<text text-anchor=\"middle\" x=\"183\" y=\"-349.8\" font-family=\"Helvetica,sans-Serif\" font-size=\"14.00\">class = 0</text>\r\n",
       "</g>\r\n",
       "<!-- 4&#45;&gt;5 -->\r\n",
       "<g id=\"edge4\" class=\"edge\">\r\n",
       "<title>4&#45;&gt;5</title>\r\n",
       "<path fill=\"none\" stroke=\"black\" d=\"M228.71,-460.91C223.45,-452.1 217.82,-442.7 212.38,-433.61\"/>\r\n",
       "<polygon fill=\"black\" stroke=\"black\" points=\"215.38,-431.81 207.24,-425.02 209.37,-435.4 215.38,-431.81\"/>\r\n",
       "</g>\r\n",
       "<!-- 6 -->\r\n",
       "<g id=\"node8\" class=\"node\">\r\n",
       "<title>6</title>\r\n",
       "<path fill=\"#f9e3d4\" stroke=\"black\" d=\"M376,-425C376,-425 270,-425 270,-425 264,-425 258,-419 258,-413 258,-413 258,-354 258,-354 258,-348 264,-342 270,-342 270,-342 376,-342 376,-342 382,-342 388,-348 388,-354 388,-354 388,-413 388,-413 388,-419 382,-425 376,-425\"/>\r\n",
       "<text text-anchor=\"middle\" x=\"323\" y=\"-409.8\" font-family=\"Helvetica,sans-Serif\" font-size=\"14.00\">Age &lt;= 28.5</text>\r\n",
       "<text text-anchor=\"middle\" x=\"323\" y=\"-394.8\" font-family=\"Helvetica,sans-Serif\" font-size=\"14.00\">entropy = 0.99</text>\r\n",
       "<text text-anchor=\"middle\" x=\"323\" y=\"-379.8\" font-family=\"Helvetica,sans-Serif\" font-size=\"14.00\">samples = 244</text>\r\n",
       "<text text-anchor=\"middle\" x=\"323\" y=\"-364.8\" font-family=\"Helvetica,sans-Serif\" font-size=\"14.00\">value = [137, 107]</text>\r\n",
       "<text text-anchor=\"middle\" x=\"323\" y=\"-349.8\" font-family=\"Helvetica,sans-Serif\" font-size=\"14.00\">class = 0</text>\r\n",
       "</g>\r\n",
       "<!-- 4&#45;&gt;6 -->\r\n",
       "<g id=\"edge7\" class=\"edge\">\r\n",
       "<title>4&#45;&gt;6</title>\r\n",
       "<path fill=\"none\" stroke=\"black\" d=\"M277.29,-460.91C282.55,-452.1 288.18,-442.7 293.62,-433.61\"/>\r\n",
       "<polygon fill=\"black\" stroke=\"black\" points=\"296.63,-435.4 298.76,-425.02 290.62,-431.81 296.63,-435.4\"/>\r\n",
       "</g>\r\n",
       "<!-- 9 -->\r\n",
       "<g id=\"node6\" class=\"node\">\r\n",
       "<title>9</title>\r\n",
       "<path fill=\"#e6843d\" stroke=\"black\" d=\"M96,-298.5C96,-298.5 12,-298.5 12,-298.5 6,-298.5 0,-292.5 0,-286.5 0,-286.5 0,-242.5 0,-242.5 0,-236.5 6,-230.5 12,-230.5 12,-230.5 96,-230.5 96,-230.5 102,-230.5 108,-236.5 108,-242.5 108,-242.5 108,-286.5 108,-286.5 108,-292.5 102,-298.5 96,-298.5\"/>\r\n",
       "<text text-anchor=\"middle\" x=\"54\" y=\"-283.3\" font-family=\"Helvetica,sans-Serif\" font-size=\"14.00\">entropy = 0.15</text>\r\n",
       "<text text-anchor=\"middle\" x=\"54\" y=\"-268.3\" font-family=\"Helvetica,sans-Serif\" font-size=\"14.00\">samples = 48</text>\r\n",
       "<text text-anchor=\"middle\" x=\"54\" y=\"-253.3\" font-family=\"Helvetica,sans-Serif\" font-size=\"14.00\">value = [47, 1]</text>\r\n",
       "<text text-anchor=\"middle\" x=\"54\" y=\"-238.3\" font-family=\"Helvetica,sans-Serif\" font-size=\"14.00\">class = 0</text>\r\n",
       "</g>\r\n",
       "<!-- 5&#45;&gt;9 -->\r\n",
       "<g id=\"edge5\" class=\"edge\">\r\n",
       "<title>5&#45;&gt;9</title>\r\n",
       "<path fill=\"none\" stroke=\"black\" d=\"M138.24,-341.91C125.23,-330.1 111.02,-317.22 98.05,-305.45\"/>\r\n",
       "<polygon fill=\"black\" stroke=\"black\" points=\"100.33,-302.79 90.57,-298.67 95.62,-307.98 100.33,-302.79\"/>\r\n",
       "</g>\r\n",
       "<!-- 10 -->\r\n",
       "<g id=\"node7\" class=\"node\">\r\n",
       "<title>10</title>\r\n",
       "<path fill=\"#eca470\" stroke=\"black\" d=\"M227.5,-298.5C227.5,-298.5 138.5,-298.5 138.5,-298.5 132.5,-298.5 126.5,-292.5 126.5,-286.5 126.5,-286.5 126.5,-242.5 126.5,-242.5 126.5,-236.5 132.5,-230.5 138.5,-230.5 138.5,-230.5 227.5,-230.5 227.5,-230.5 233.5,-230.5 239.5,-236.5 239.5,-242.5 239.5,-242.5 239.5,-286.5 239.5,-286.5 239.5,-292.5 233.5,-298.5 227.5,-298.5\"/>\r\n",
       "<text text-anchor=\"middle\" x=\"183\" y=\"-283.3\" font-family=\"Helvetica,sans-Serif\" font-size=\"14.00\">entropy = 0.76</text>\r\n",
       "<text text-anchor=\"middle\" x=\"183\" y=\"-268.3\" font-family=\"Helvetica,sans-Serif\" font-size=\"14.00\">samples = 46</text>\r\n",
       "<text text-anchor=\"middle\" x=\"183\" y=\"-253.3\" font-family=\"Helvetica,sans-Serif\" font-size=\"14.00\">value = [36, 10]</text>\r\n",
       "<text text-anchor=\"middle\" x=\"183\" y=\"-238.3\" font-family=\"Helvetica,sans-Serif\" font-size=\"14.00\">class = 0</text>\r\n",
       "</g>\r\n",
       "<!-- 5&#45;&gt;10 -->\r\n",
       "<g id=\"edge6\" class=\"edge\">\r\n",
       "<title>5&#45;&gt;10</title>\r\n",
       "<path fill=\"none\" stroke=\"black\" d=\"M183,-341.91C183,-331.2 183,-319.62 183,-308.78\"/>\r\n",
       "<polygon fill=\"black\" stroke=\"black\" points=\"186.5,-308.67 183,-298.67 179.5,-308.67 186.5,-308.67\"/>\r\n",
       "</g>\r\n",
       "<!-- 7 -->\r\n",
       "<g id=\"node9\" class=\"node\">\r\n",
       "<title>7</title>\r\n",
       "<path fill=\"#f0b58b\" stroke=\"black\" d=\"M376.5,-306C376.5,-306 269.5,-306 269.5,-306 263.5,-306 257.5,-300 257.5,-294 257.5,-294 257.5,-235 257.5,-235 257.5,-229 263.5,-223 269.5,-223 269.5,-223 376.5,-223 376.5,-223 382.5,-223 388.5,-229 388.5,-235 388.5,-235 388.5,-294 388.5,-294 388.5,-300 382.5,-306 376.5,-306\"/>\r\n",
       "<text text-anchor=\"middle\" x=\"323\" y=\"-290.8\" font-family=\"Helvetica,sans-Serif\" font-size=\"14.00\">Glucose &lt;= 127.5</text>\r\n",
       "<text text-anchor=\"middle\" x=\"323\" y=\"-275.8\" font-family=\"Helvetica,sans-Serif\" font-size=\"14.00\">entropy = 0.87</text>\r\n",
       "<text text-anchor=\"middle\" x=\"323\" y=\"-260.8\" font-family=\"Helvetica,sans-Serif\" font-size=\"14.00\">samples = 99</text>\r\n",
       "<text text-anchor=\"middle\" x=\"323\" y=\"-245.8\" font-family=\"Helvetica,sans-Serif\" font-size=\"14.00\">value = [70, 29]</text>\r\n",
       "<text text-anchor=\"middle\" x=\"323\" y=\"-230.8\" font-family=\"Helvetica,sans-Serif\" font-size=\"14.00\">class = 0</text>\r\n",
       "</g>\r\n",
       "<!-- 6&#45;&gt;7 -->\r\n",
       "<g id=\"edge8\" class=\"edge\">\r\n",
       "<title>6&#45;&gt;7</title>\r\n",
       "<path fill=\"none\" stroke=\"black\" d=\"M323,-341.91C323,-333.65 323,-324.86 323,-316.3\"/>\r\n",
       "<polygon fill=\"black\" stroke=\"black\" points=\"326.5,-316.02 323,-306.02 319.5,-316.02 326.5,-316.02\"/>\r\n",
       "</g>\r\n",
       "<!-- 8 -->\r\n",
       "<g id=\"node14\" class=\"node\">\r\n",
       "<title>8</title>\r\n",
       "<path fill=\"#e3f1fb\" stroke=\"black\" d=\"M633.5,-306C633.5,-306 418.5,-306 418.5,-306 412.5,-306 406.5,-300 406.5,-294 406.5,-294 406.5,-235 406.5,-235 406.5,-229 412.5,-223 418.5,-223 418.5,-223 633.5,-223 633.5,-223 639.5,-223 645.5,-229 645.5,-235 645.5,-235 645.5,-294 645.5,-294 645.5,-300 639.5,-306 633.5,-306\"/>\r\n",
       "<text text-anchor=\"middle\" x=\"526\" y=\"-290.8\" font-family=\"Helvetica,sans-Serif\" font-size=\"14.00\">DiabetesPedigreeFunction &lt;= 0.51</text>\r\n",
       "<text text-anchor=\"middle\" x=\"526\" y=\"-275.8\" font-family=\"Helvetica,sans-Serif\" font-size=\"14.00\">entropy = 1.0</text>\r\n",
       "<text text-anchor=\"middle\" x=\"526\" y=\"-260.8\" font-family=\"Helvetica,sans-Serif\" font-size=\"14.00\">samples = 145</text>\r\n",
       "<text text-anchor=\"middle\" x=\"526\" y=\"-245.8\" font-family=\"Helvetica,sans-Serif\" font-size=\"14.00\">value = [67, 78]</text>\r\n",
       "<text text-anchor=\"middle\" x=\"526\" y=\"-230.8\" font-family=\"Helvetica,sans-Serif\" font-size=\"14.00\">class = 1</text>\r\n",
       "</g>\r\n",
       "<!-- 6&#45;&gt;8 -->\r\n",
       "<g id=\"edge13\" class=\"edge\">\r\n",
       "<title>6&#45;&gt;8</title>\r\n",
       "<path fill=\"none\" stroke=\"black\" d=\"M388.07,-345C406.77,-334.22 427.38,-322.34 446.84,-311.12\"/>\r\n",
       "<polygon fill=\"black\" stroke=\"black\" points=\"448.77,-314.05 455.69,-306.03 445.28,-307.99 448.77,-314.05\"/>\r\n",
       "</g>\r\n",
       "<!-- 15 -->\r\n",
       "<g id=\"node10\" class=\"node\">\r\n",
       "<title>15</title>\r\n",
       "<path fill=\"#eb9d65\" stroke=\"black\" d=\"M254.5,-187C254.5,-187 165.5,-187 165.5,-187 159.5,-187 153.5,-181 153.5,-175 153.5,-175 153.5,-116 153.5,-116 153.5,-110 159.5,-104 165.5,-104 165.5,-104 254.5,-104 254.5,-104 260.5,-104 266.5,-110 266.5,-116 266.5,-116 266.5,-175 266.5,-175 266.5,-181 260.5,-187 254.5,-187\"/>\r\n",
       "<text text-anchor=\"middle\" x=\"210\" y=\"-171.8\" font-family=\"Helvetica,sans-Serif\" font-size=\"14.00\">BMI &lt;= 31.3</text>\r\n",
       "<text text-anchor=\"middle\" x=\"210\" y=\"-156.8\" font-family=\"Helvetica,sans-Serif\" font-size=\"14.00\">entropy = 0.69</text>\r\n",
       "<text text-anchor=\"middle\" x=\"210\" y=\"-141.8\" font-family=\"Helvetica,sans-Serif\" font-size=\"14.00\">samples = 60</text>\r\n",
       "<text text-anchor=\"middle\" x=\"210\" y=\"-126.8\" font-family=\"Helvetica,sans-Serif\" font-size=\"14.00\">value = [49, 11]</text>\r\n",
       "<text text-anchor=\"middle\" x=\"210\" y=\"-111.8\" font-family=\"Helvetica,sans-Serif\" font-size=\"14.00\">class = 0</text>\r\n",
       "</g>\r\n",
       "<!-- 7&#45;&gt;15 -->\r\n",
       "<g id=\"edge9\" class=\"edge\">\r\n",
       "<title>7&#45;&gt;15</title>\r\n",
       "<path fill=\"none\" stroke=\"black\" d=\"M283.8,-222.91C274.94,-213.74 265.46,-203.93 256.35,-194.49\"/>\r\n",
       "<polygon fill=\"black\" stroke=\"black\" points=\"258.6,-191.78 249.14,-187.02 253.57,-196.65 258.6,-191.78\"/>\r\n",
       "</g>\r\n",
       "<!-- 16 -->\r\n",
       "<g id=\"node13\" class=\"node\">\r\n",
       "<title>16</title>\r\n",
       "<path fill=\"#fbede3\" stroke=\"black\" d=\"M385.5,-179.5C385.5,-179.5 296.5,-179.5 296.5,-179.5 290.5,-179.5 284.5,-173.5 284.5,-167.5 284.5,-167.5 284.5,-123.5 284.5,-123.5 284.5,-117.5 290.5,-111.5 296.5,-111.5 296.5,-111.5 385.5,-111.5 385.5,-111.5 391.5,-111.5 397.5,-117.5 397.5,-123.5 397.5,-123.5 397.5,-167.5 397.5,-167.5 397.5,-173.5 391.5,-179.5 385.5,-179.5\"/>\r\n",
       "<text text-anchor=\"middle\" x=\"341\" y=\"-164.3\" font-family=\"Helvetica,sans-Serif\" font-size=\"14.00\">entropy = 1.0</text>\r\n",
       "<text text-anchor=\"middle\" x=\"341\" y=\"-149.3\" font-family=\"Helvetica,sans-Serif\" font-size=\"14.00\">samples = 39</text>\r\n",
       "<text text-anchor=\"middle\" x=\"341\" y=\"-134.3\" font-family=\"Helvetica,sans-Serif\" font-size=\"14.00\">value = [21, 18]</text>\r\n",
       "<text text-anchor=\"middle\" x=\"341\" y=\"-119.3\" font-family=\"Helvetica,sans-Serif\" font-size=\"14.00\">class = 0</text>\r\n",
       "</g>\r\n",
       "<!-- 7&#45;&gt;16 -->\r\n",
       "<g id=\"edge12\" class=\"edge\">\r\n",
       "<title>7&#45;&gt;16</title>\r\n",
       "<path fill=\"none\" stroke=\"black\" d=\"M329.25,-222.91C330.89,-212.2 332.67,-200.62 334.34,-189.78\"/>\r\n",
       "<polygon fill=\"black\" stroke=\"black\" points=\"337.84,-190.08 335.9,-179.67 330.92,-189.02 337.84,-190.08\"/>\r\n",
       "</g>\r\n",
       "<!-- 17 -->\r\n",
       "<g id=\"node11\" class=\"node\">\r\n",
       "<title>17</title>\r\n",
       "<path fill=\"#e58139\" stroke=\"black\" d=\"M187.5,-68C187.5,-68 106.5,-68 106.5,-68 100.5,-68 94.5,-62 94.5,-56 94.5,-56 94.5,-12 94.5,-12 94.5,-6 100.5,0 106.5,0 106.5,0 187.5,0 187.5,0 193.5,0 199.5,-6 199.5,-12 199.5,-12 199.5,-56 199.5,-56 199.5,-62 193.5,-68 187.5,-68\"/>\r\n",
       "<text text-anchor=\"middle\" x=\"147\" y=\"-52.8\" font-family=\"Helvetica,sans-Serif\" font-size=\"14.00\">entropy = 0.0</text>\r\n",
       "<text text-anchor=\"middle\" x=\"147\" y=\"-37.8\" font-family=\"Helvetica,sans-Serif\" font-size=\"14.00\">samples = 17</text>\r\n",
       "<text text-anchor=\"middle\" x=\"147\" y=\"-22.8\" font-family=\"Helvetica,sans-Serif\" font-size=\"14.00\">value = [17, 0]</text>\r\n",
       "<text text-anchor=\"middle\" x=\"147\" y=\"-7.8\" font-family=\"Helvetica,sans-Serif\" font-size=\"14.00\">class = 0</text>\r\n",
       "</g>\r\n",
       "<!-- 15&#45;&gt;17 -->\r\n",
       "<g id=\"edge10\" class=\"edge\">\r\n",
       "<title>15&#45;&gt;17</title>\r\n",
       "<path fill=\"none\" stroke=\"black\" d=\"M186.54,-103.73C181.56,-95.06 176.28,-85.9 171.27,-77.18\"/>\r\n",
       "<polygon fill=\"black\" stroke=\"black\" points=\"174.18,-75.22 166.16,-68.3 168.11,-78.71 174.18,-75.22\"/>\r\n",
       "</g>\r\n",
       "<!-- 18 -->\r\n",
       "<g id=\"node12\" class=\"node\">\r\n",
       "<title>18</title>\r\n",
       "<path fill=\"#eeac7d\" stroke=\"black\" d=\"M318.5,-68C318.5,-68 229.5,-68 229.5,-68 223.5,-68 217.5,-62 217.5,-56 217.5,-56 217.5,-12 217.5,-12 217.5,-6 223.5,0 229.5,0 229.5,0 318.5,0 318.5,0 324.5,0 330.5,-6 330.5,-12 330.5,-12 330.5,-56 330.5,-56 330.5,-62 324.5,-68 318.5,-68\"/>\r\n",
       "<text text-anchor=\"middle\" x=\"274\" y=\"-52.8\" font-family=\"Helvetica,sans-Serif\" font-size=\"14.00\">entropy = 0.82</text>\r\n",
       "<text text-anchor=\"middle\" x=\"274\" y=\"-37.8\" font-family=\"Helvetica,sans-Serif\" font-size=\"14.00\">samples = 43</text>\r\n",
       "<text text-anchor=\"middle\" x=\"274\" y=\"-22.8\" font-family=\"Helvetica,sans-Serif\" font-size=\"14.00\">value = [32, 11]</text>\r\n",
       "<text text-anchor=\"middle\" x=\"274\" y=\"-7.8\" font-family=\"Helvetica,sans-Serif\" font-size=\"14.00\">class = 0</text>\r\n",
       "</g>\r\n",
       "<!-- 15&#45;&gt;18 -->\r\n",
       "<g id=\"edge11\" class=\"edge\">\r\n",
       "<title>15&#45;&gt;18</title>\r\n",
       "<path fill=\"none\" stroke=\"black\" d=\"M233.83,-103.73C238.9,-95.06 244.25,-85.9 249.35,-77.18\"/>\r\n",
       "<polygon fill=\"black\" stroke=\"black\" points=\"252.51,-78.7 254.54,-68.3 246.47,-75.17 252.51,-78.7\"/>\r\n",
       "</g>\r\n",
       "<!-- 11 -->\r\n",
       "<g id=\"node15\" class=\"node\">\r\n",
       "<title>11</title>\r\n",
       "<path fill=\"#f9e2d2\" stroke=\"black\" d=\"M552.5,-179.5C552.5,-179.5 463.5,-179.5 463.5,-179.5 457.5,-179.5 451.5,-173.5 451.5,-167.5 451.5,-167.5 451.5,-123.5 451.5,-123.5 451.5,-117.5 457.5,-111.5 463.5,-111.5 463.5,-111.5 552.5,-111.5 552.5,-111.5 558.5,-111.5 564.5,-117.5 564.5,-123.5 564.5,-123.5 564.5,-167.5 564.5,-167.5 564.5,-173.5 558.5,-179.5 552.5,-179.5\"/>\r\n",
       "<text text-anchor=\"middle\" x=\"508\" y=\"-164.3\" font-family=\"Helvetica,sans-Serif\" font-size=\"14.00\">entropy = 0.99</text>\r\n",
       "<text text-anchor=\"middle\" x=\"508\" y=\"-149.3\" font-family=\"Helvetica,sans-Serif\" font-size=\"14.00\">samples = 85</text>\r\n",
       "<text text-anchor=\"middle\" x=\"508\" y=\"-134.3\" font-family=\"Helvetica,sans-Serif\" font-size=\"14.00\">value = [48, 37]</text>\r\n",
       "<text text-anchor=\"middle\" x=\"508\" y=\"-119.3\" font-family=\"Helvetica,sans-Serif\" font-size=\"14.00\">class = 0</text>\r\n",
       "</g>\r\n",
       "<!-- 8&#45;&gt;11 -->\r\n",
       "<g id=\"edge14\" class=\"edge\">\r\n",
       "<title>8&#45;&gt;11</title>\r\n",
       "<path fill=\"none\" stroke=\"black\" d=\"M519.75,-222.91C518.11,-212.2 516.33,-200.62 514.66,-189.78\"/>\r\n",
       "<polygon fill=\"black\" stroke=\"black\" points=\"518.08,-189.02 513.1,-179.67 511.16,-190.08 518.08,-189.02\"/>\r\n",
       "</g>\r\n",
       "<!-- 12 -->\r\n",
       "<g id=\"node16\" class=\"node\">\r\n",
       "<title>12</title>\r\n",
       "<path fill=\"#95caf1\" stroke=\"black\" d=\"M711,-187C711,-187 595,-187 595,-187 589,-187 583,-181 583,-175 583,-175 583,-116 583,-116 583,-110 589,-104 595,-104 595,-104 711,-104 711,-104 717,-104 723,-110 723,-116 723,-116 723,-175 723,-175 723,-181 717,-187 711,-187\"/>\r\n",
       "<text text-anchor=\"middle\" x=\"653\" y=\"-171.8\" font-family=\"Helvetica,sans-Serif\" font-size=\"14.00\">Pregnancies &lt;= 7.5</text>\r\n",
       "<text text-anchor=\"middle\" x=\"653\" y=\"-156.8\" font-family=\"Helvetica,sans-Serif\" font-size=\"14.00\">entropy = 0.9</text>\r\n",
       "<text text-anchor=\"middle\" x=\"653\" y=\"-141.8\" font-family=\"Helvetica,sans-Serif\" font-size=\"14.00\">samples = 60</text>\r\n",
       "<text text-anchor=\"middle\" x=\"653\" y=\"-126.8\" font-family=\"Helvetica,sans-Serif\" font-size=\"14.00\">value = [19, 41]</text>\r\n",
       "<text text-anchor=\"middle\" x=\"653\" y=\"-111.8\" font-family=\"Helvetica,sans-Serif\" font-size=\"14.00\">class = 1</text>\r\n",
       "</g>\r\n",
       "<!-- 8&#45;&gt;12 -->\r\n",
       "<g id=\"edge15\" class=\"edge\">\r\n",
       "<title>8&#45;&gt;12</title>\r\n",
       "<path fill=\"none\" stroke=\"black\" d=\"M570.06,-222.91C580.21,-213.56 591.09,-203.54 601.52,-193.93\"/>\r\n",
       "<polygon fill=\"black\" stroke=\"black\" points=\"604.03,-196.37 609.02,-187.02 599.29,-191.22 604.03,-196.37\"/>\r\n",
       "</g>\r\n",
       "<!-- 13 -->\r\n",
       "<g id=\"node17\" class=\"node\">\r\n",
       "<title>13</title>\r\n",
       "<path fill=\"#c8e4f8\" stroke=\"black\" d=\"M632.5,-68C632.5,-68 543.5,-68 543.5,-68 537.5,-68 531.5,-62 531.5,-56 531.5,-56 531.5,-12 531.5,-12 531.5,-6 537.5,0 543.5,0 543.5,0 632.5,0 632.5,0 638.5,0 644.5,-6 644.5,-12 644.5,-12 644.5,-56 644.5,-56 644.5,-62 638.5,-68 632.5,-68\"/>\r\n",
       "<text text-anchor=\"middle\" x=\"588\" y=\"-52.8\" font-family=\"Helvetica,sans-Serif\" font-size=\"14.00\">entropy = 0.98</text>\r\n",
       "<text text-anchor=\"middle\" x=\"588\" y=\"-37.8\" font-family=\"Helvetica,sans-Serif\" font-size=\"14.00\">samples = 43</text>\r\n",
       "<text text-anchor=\"middle\" x=\"588\" y=\"-22.8\" font-family=\"Helvetica,sans-Serif\" font-size=\"14.00\">value = [18, 25]</text>\r\n",
       "<text text-anchor=\"middle\" x=\"588\" y=\"-7.8\" font-family=\"Helvetica,sans-Serif\" font-size=\"14.00\">class = 1</text>\r\n",
       "</g>\r\n",
       "<!-- 12&#45;&gt;13 -->\r\n",
       "<g id=\"edge16\" class=\"edge\">\r\n",
       "<title>12&#45;&gt;13</title>\r\n",
       "<path fill=\"none\" stroke=\"black\" d=\"M628.8,-103.73C623.6,-94.97 618.1,-85.7 612.88,-76.91\"/>\r\n",
       "<polygon fill=\"black\" stroke=\"black\" points=\"615.88,-75.11 607.77,-68.3 609.86,-78.69 615.88,-75.11\"/>\r\n",
       "</g>\r\n",
       "<!-- 14 -->\r\n",
       "<g id=\"node18\" class=\"node\">\r\n",
       "<title>14</title>\r\n",
       "<path fill=\"#45a3e7\" stroke=\"black\" d=\"M759,-68C759,-68 675,-68 675,-68 669,-68 663,-62 663,-56 663,-56 663,-12 663,-12 663,-6 669,0 675,0 675,0 759,0 759,0 765,0 771,-6 771,-12 771,-12 771,-56 771,-56 771,-62 765,-68 759,-68\"/>\r\n",
       "<text text-anchor=\"middle\" x=\"717\" y=\"-52.8\" font-family=\"Helvetica,sans-Serif\" font-size=\"14.00\">entropy = 0.32</text>\r\n",
       "<text text-anchor=\"middle\" x=\"717\" y=\"-37.8\" font-family=\"Helvetica,sans-Serif\" font-size=\"14.00\">samples = 17</text>\r\n",
       "<text text-anchor=\"middle\" x=\"717\" y=\"-22.8\" font-family=\"Helvetica,sans-Serif\" font-size=\"14.00\">value = [1, 16]</text>\r\n",
       "<text text-anchor=\"middle\" x=\"717\" y=\"-7.8\" font-family=\"Helvetica,sans-Serif\" font-size=\"14.00\">class = 1</text>\r\n",
       "</g>\r\n",
       "<!-- 12&#45;&gt;14 -->\r\n",
       "<g id=\"edge17\" class=\"edge\">\r\n",
       "<title>12&#45;&gt;14</title>\r\n",
       "<path fill=\"none\" stroke=\"black\" d=\"M676.83,-103.73C681.9,-95.06 687.25,-85.9 692.35,-77.18\"/>\r\n",
       "<polygon fill=\"black\" stroke=\"black\" points=\"695.51,-78.7 697.54,-68.3 689.47,-75.17 695.51,-78.7\"/>\r\n",
       "</g>\r\n",
       "<!-- 19 -->\r\n",
       "<g id=\"node20\" class=\"node\">\r\n",
       "<title>19</title>\r\n",
       "<path fill=\"#59ade9\" stroke=\"black\" d=\"M437.5,-536.5C437.5,-536.5 348.5,-536.5 348.5,-536.5 342.5,-536.5 336.5,-530.5 336.5,-524.5 336.5,-524.5 336.5,-480.5 336.5,-480.5 336.5,-474.5 342.5,-468.5 348.5,-468.5 348.5,-468.5 437.5,-468.5 437.5,-468.5 443.5,-468.5 449.5,-474.5 449.5,-480.5 449.5,-480.5 449.5,-524.5 449.5,-524.5 449.5,-530.5 443.5,-536.5 437.5,-536.5\"/>\r\n",
       "<text text-anchor=\"middle\" x=\"393\" y=\"-521.3\" font-family=\"Helvetica,sans-Serif\" font-size=\"14.00\">entropy = 0.58</text>\r\n",
       "<text text-anchor=\"middle\" x=\"393\" y=\"-506.3\" font-family=\"Helvetica,sans-Serif\" font-size=\"14.00\">samples = 72</text>\r\n",
       "<text text-anchor=\"middle\" x=\"393\" y=\"-491.3\" font-family=\"Helvetica,sans-Serif\" font-size=\"14.00\">value = [10, 62]</text>\r\n",
       "<text text-anchor=\"middle\" x=\"393\" y=\"-476.3\" font-family=\"Helvetica,sans-Serif\" font-size=\"14.00\">class = 1</text>\r\n",
       "</g>\r\n",
       "<!-- 2&#45;&gt;19 -->\r\n",
       "<g id=\"edge19\" class=\"edge\">\r\n",
       "<title>2&#45;&gt;19</title>\r\n",
       "<path fill=\"none\" stroke=\"black\" d=\"M393,-579.91C393,-569.2 393,-557.62 393,-546.78\"/>\r\n",
       "<polygon fill=\"black\" stroke=\"black\" points=\"396.5,-546.67 393,-536.67 389.5,-546.67 396.5,-546.67\"/>\r\n",
       "</g>\r\n",
       "<!-- 20 -->\r\n",
       "<g id=\"node21\" class=\"node\">\r\n",
       "<title>20</title>\r\n",
       "<path fill=\"#fbeade\" stroke=\"black\" d=\"M564,-536.5C564,-536.5 480,-536.5 480,-536.5 474,-536.5 468,-530.5 468,-524.5 468,-524.5 468,-480.5 468,-480.5 468,-474.5 474,-468.5 480,-468.5 480,-468.5 564,-468.5 564,-468.5 570,-468.5 576,-474.5 576,-480.5 576,-480.5 576,-524.5 576,-524.5 576,-530.5 570,-536.5 564,-536.5\"/>\r\n",
       "<text text-anchor=\"middle\" x=\"522\" y=\"-521.3\" font-family=\"Helvetica,sans-Serif\" font-size=\"14.00\">entropy = 0.99</text>\r\n",
       "<text text-anchor=\"middle\" x=\"522\" y=\"-506.3\" font-family=\"Helvetica,sans-Serif\" font-size=\"14.00\">samples = 11</text>\r\n",
       "<text text-anchor=\"middle\" x=\"522\" y=\"-491.3\" font-family=\"Helvetica,sans-Serif\" font-size=\"14.00\">value = [6, 5]</text>\r\n",
       "<text text-anchor=\"middle\" x=\"522\" y=\"-476.3\" font-family=\"Helvetica,sans-Serif\" font-size=\"14.00\">class = 0</text>\r\n",
       "</g>\r\n",
       "<!-- 2&#45;&gt;20 -->\r\n",
       "<g id=\"edge20\" class=\"edge\">\r\n",
       "<title>2&#45;&gt;20</title>\r\n",
       "<path fill=\"none\" stroke=\"black\" d=\"M437.76,-579.91C450.77,-568.1 464.98,-555.22 477.95,-543.45\"/>\r\n",
       "<polygon fill=\"black\" stroke=\"black\" points=\"480.38,-545.98 485.43,-536.67 475.67,-540.79 480.38,-545.98\"/>\r\n",
       "</g>\r\n",
       "</g>\r\n",
       "</svg>\r\n"
      ],
      "text/plain": [
       "<graphviz.files.Source at 0x28e13566190>"
      ]
     },
     "execution_count": 24,
     "metadata": {},
     "output_type": "execute_result"
    }
   ],
   "source": [
    "from sklearn.tree import export_graphviz\n",
    "import graphviz\n",
    "columns = list(x.columns)\n",
    "export_graphviz(clf, out_file='tree.dot', \n",
    "                feature_names=columns,\n",
    "                class_names=['0', '1'],\n",
    "                rounded = True, proportion = False, \n",
    "                precision = 2, filled = True, label='all')\n",
    "\n",
    "with open('tree.dot') as f:\n",
    "    dot_graph = f.read()\n",
    "\n",
    "graphviz.Source(dot_graph)"
   ]
  },
  {
   "cell_type": "markdown",
   "metadata": {},
   "source": [
    "Выводим глубину дерева:"
   ]
  },
  {
   "cell_type": "code",
   "execution_count": 25,
   "metadata": {},
   "outputs": [
    {
     "data": {
      "text/plain": [
       "6"
      ]
     },
     "execution_count": 25,
     "metadata": {},
     "output_type": "execute_result"
    }
   ],
   "source": [
    "clf.tree_.max_depth"
   ]
  },
  {
   "cell_type": "markdown",
   "metadata": {},
   "source": [
    "Выполняем предсказание для объектов из тестовой выборки:"
   ]
  },
  {
   "cell_type": "code",
   "execution_count": 26,
   "metadata": {},
   "outputs": [],
   "source": [
    "features = list(test.columns[:8])\n",
    "x = test[features]\n",
    "y_true = test['Outcome']\n",
    "y_pred = clf.predict(x)"
   ]
  },
  {
   "cell_type": "markdown",
   "metadata": {},
   "source": [
    "Доля правильных ответов классификатора:"
   ]
  },
  {
   "cell_type": "code",
   "execution_count": 27,
   "metadata": {},
   "outputs": [
    {
     "data": {
      "text/plain": [
       "0.8134328358208955"
      ]
     },
     "execution_count": 27,
     "metadata": {},
     "output_type": "execute_result"
    }
   ],
   "source": [
    "from sklearn.metrics import accuracy_score\n",
    "accuracy_score(y_true, y_pred)"
   ]
  },
  {
   "cell_type": "markdown",
   "metadata": {},
   "source": [
    "Среднее значение метрик $F_1$ (Macro-F1):"
   ]
  },
  {
   "cell_type": "code",
   "execution_count": 28,
   "metadata": {},
   "outputs": [
    {
     "data": {
      "text/plain": [
       "0.7646645591851071"
      ]
     },
     "execution_count": 28,
     "metadata": {},
     "output_type": "execute_result"
    }
   ],
   "source": [
    "from sklearn.metrics import f1_score\n",
    "f1_score(y_true, y_pred, average='macro')"
   ]
  },
  {
   "cell_type": "markdown",
   "metadata": {},
   "source": [
    "Выполним предсказание для конкретного объекта (с индексом 708) исходных данных:"
   ]
  },
  {
   "cell_type": "code",
   "execution_count": 32,
   "metadata": {},
   "outputs": [
    {
     "data": {
      "text/plain": [
       "Pregnancies                   9.000\n",
       "Glucose                     164.000\n",
       "BloodPressure                78.000\n",
       "SkinThickness                 0.000\n",
       "Insulin                       0.000\n",
       "BMI                          32.800\n",
       "DiabetesPedigreeFunction      0.148\n",
       "Age                          45.000\n",
       "Name: 708, dtype: float64"
      ]
     },
     "execution_count": 32,
     "metadata": {},
     "output_type": "execute_result"
    }
   ],
   "source": [
    "df.loc[708, features]"
   ]
  },
  {
   "cell_type": "markdown",
   "metadata": {},
   "source": [
    "Назначенный класс:"
   ]
  },
  {
   "cell_type": "code",
   "execution_count": 36,
   "metadata": {},
   "outputs": [
    {
     "data": {
      "text/plain": [
       "1"
      ]
     },
     "execution_count": 36,
     "metadata": {},
     "output_type": "execute_result"
    }
   ],
   "source": [
    "clf.predict([df.loc[740, features].tolist()])[0]"
   ]
  },
  {
   "cell_type": "code",
   "execution_count": null,
   "metadata": {},
   "outputs": [],
   "source": []
  }
 ],
 "metadata": {
  "kernelspec": {
   "display_name": "Python 3",
   "language": "python",
   "name": "python3"
  },
  "language_info": {
   "codemirror_mode": {
    "name": "ipython",
    "version": 3
   },
   "file_extension": ".py",
   "mimetype": "text/x-python",
   "name": "python",
   "nbconvert_exporter": "python",
   "pygments_lexer": "ipython3",
   "version": "3.8.3"
  }
 },
 "nbformat": 4,
 "nbformat_minor": 4
}
