{
 "cells": [
  {
   "cell_type": "code",
   "execution_count": 14,
   "metadata": {},
   "outputs": [],
   "source": [
    "import sklearn.datasets as ds\n",
    "import matplotlib.pyplot as plt\n",
    "import pandas as pd\n",
    "import numpy as np\n",
    "from sklearn.model_selection import cross_val_score as cvs\n",
    "from sklearn.naive_bayes import BernoulliNB, MultinomialNB, GaussianNB\n",
    "\n",
    "X_digits, y_digits  = ds.load_digits(return_X_y=True)\n",
    "X_breast_cancer, y_breast_cancer = ds.load_breast_cancer(return_X_y=True)"
   ]
  },
  {
   "cell_type": "code",
   "execution_count": 20,
   "metadata": {},
   "outputs": [
    {
     "name": "stdout",
     "output_type": "stream",
     "text": [
      "[[ 0.  0.  5. ...  0.  0.  0.]\n",
      " [ 0.  0.  0. ... 10.  0.  0.]\n",
      " [ 0.  0.  0. ... 16.  9.  0.]\n",
      " ...\n",
      " [ 0.  0.  1. ...  6.  0.  0.]\n",
      " [ 0.  0.  2. ... 12.  0.  0.]\n",
      " [ 0.  0. 10. ... 12.  1.  0.]]\n",
      "[[1.799e+01 1.038e+01 1.228e+02 ... 2.654e-01 4.601e-01 1.189e-01]\n",
      " [2.057e+01 1.777e+01 1.329e+02 ... 1.860e-01 2.750e-01 8.902e-02]\n",
      " [1.969e+01 2.125e+01 1.300e+02 ... 2.430e-01 3.613e-01 8.758e-02]\n",
      " ...\n",
      " [1.660e+01 2.808e+01 1.083e+02 ... 1.418e-01 2.218e-01 7.820e-02]\n",
      " [2.060e+01 2.933e+01 1.401e+02 ... 2.650e-01 4.087e-01 1.240e-01]\n",
      " [7.760e+00 2.454e+01 4.792e+01 ... 0.000e+00 2.871e-01 7.039e-02]]\n"
     ]
    }
   ],
   "source": [
    "def write_answer_1(cvs_score, ans):\n",
    "    with open(ans, \"w\") as fout:\n",
    "        fout.write(str(cvs_score))\n",
    "        \n",
    "print(X_digits)\n",
    "print(X_breast_cancer)"
   ]
  },
  {
   "cell_type": "code",
   "execution_count": 22,
   "metadata": {},
   "outputs": [
    {
     "name": "stdout",
     "output_type": "stream",
     "text": [
      "[0.8325170701427685, 0.8797858472998138, 0.8113904407200497]\n"
     ]
    }
   ],
   "source": [
    "BNB = BernoulliNB()\n",
    "MNB = MultinomialNB()\n",
    "GNB = GaussianNB()\n",
    "result_digits = []\n",
    "\n",
    "result_digits.append(cvs(BNB, X_digits, y_digits, cv=10, n_jobs=1).mean())\n",
    "result_digits.append(cvs(MNB, X_digits, y_digits, cv=10, n_jobs=1).mean())\n",
    "result_digits.append(cvs(GNB, X_digits, y_digits, cv=10, n_jobs=1).mean())\n",
    "\n",
    "print(result_digits)\n",
    "write_answer_1(max(result_digits), 'ans2.txt')"
   ]
  },
  {
   "cell_type": "code",
   "execution_count": 23,
   "metadata": {},
   "outputs": [
    {
     "name": "stdout",
     "output_type": "stream",
     "text": [
      "[0.6274122807017544, 0.8927944862155389, 0.9367794486215537]\n"
     ]
    }
   ],
   "source": [
    "BNB = BernoulliNB()\n",
    "MNB = MultinomialNB()\n",
    "GNB = GaussianNB()\n",
    "result_breast_cancer = []\n",
    "\n",
    "result_breast_cancer.append(cvs(BNB, X_breast_cancer, y_breast_cancer, cv=10, n_jobs=1).mean())\n",
    "result_breast_cancer.append(cvs(MNB, X_breast_cancer, y_breast_cancer, cv=10, n_jobs=1).mean())\n",
    "result_breast_cancer.append(cvs(GNB, X_breast_cancer, y_breast_cancer, cv=10, n_jobs=1).mean())\n",
    "\n",
    "print(result_breast_cancer)\n",
    "write_answer_1(max(result_breast_cancer), 'ans1.txt')"
   ]
  },
  {
   "cell_type": "code",
   "execution_count": 24,
   "metadata": {},
   "outputs": [],
   "source": [
    "write_answer_1('3 4', 'ans3.txt')"
   ]
  },
  {
   "cell_type": "code",
   "execution_count": null,
   "metadata": {},
   "outputs": [],
   "source": []
  }
 ],
 "metadata": {
  "kernelspec": {
   "display_name": "Python 3",
   "language": "python",
   "name": "python3"
  },
  "language_info": {
   "codemirror_mode": {
    "name": "ipython",
    "version": 3
   },
   "file_extension": ".py",
   "mimetype": "text/x-python",
   "name": "python",
   "nbconvert_exporter": "python",
   "pygments_lexer": "ipython3",
   "version": "3.8.3"
  }
 },
 "nbformat": 4,
 "nbformat_minor": 4
}
